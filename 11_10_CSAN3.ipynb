{
  "cells": [
    {
      "cell_type": "markdown",
      "metadata": {
        "id": "view-in-github",
        "colab_type": "text"
      },
      "source": [
        "<a href=\"https://colab.research.google.com/github/ZaqueMendes/Linguagem_Python/blob/main/11_10_CSAN3.ipynb\" target=\"_parent\"><img src=\"https://colab.research.google.com/assets/colab-badge.svg\" alt=\"Open In Colab\"/></a>"
      ]
    },
    {
      "cell_type": "code",
      "execution_count": null,
      "metadata": {
        "id": "oA2qeV8HBk-Z",
        "colab": {
          "base_uri": "https://localhost:8080/"
        },
        "outputId": "665fccb6-88b1-4bfa-a9cb-550b060cc423"
      },
      "outputs": [
        {
          "output_type": "stream",
          "name": "stdout",
          "text": [
            "Looking in indexes: https://pypi.org/simple, https://us-python.pkg.dev/colab-wheels/public/simple/\n",
            "Requirement already satisfied: pandas-datareader in /usr/local/lib/python3.7/dist-packages (0.9.0)\n",
            "Requirement already satisfied: lxml in /usr/local/lib/python3.7/dist-packages (from pandas-datareader) (4.9.1)\n",
            "Requirement already satisfied: pandas>=0.23 in /usr/local/lib/python3.7/dist-packages (from pandas-datareader) (1.3.5)\n",
            "Requirement already satisfied: requests>=2.19.0 in /usr/local/lib/python3.7/dist-packages (from pandas-datareader) (2.23.0)\n",
            "Requirement already satisfied: python-dateutil>=2.7.3 in /usr/local/lib/python3.7/dist-packages (from pandas>=0.23->pandas-datareader) (2.8.2)\n",
            "Requirement already satisfied: pytz>=2017.3 in /usr/local/lib/python3.7/dist-packages (from pandas>=0.23->pandas-datareader) (2022.4)\n",
            "Requirement already satisfied: numpy>=1.17.3 in /usr/local/lib/python3.7/dist-packages (from pandas>=0.23->pandas-datareader) (1.21.6)\n",
            "Requirement already satisfied: six>=1.5 in /usr/local/lib/python3.7/dist-packages (from python-dateutil>=2.7.3->pandas>=0.23->pandas-datareader) (1.15.0)\n",
            "Requirement already satisfied: idna<3,>=2.5 in /usr/local/lib/python3.7/dist-packages (from requests>=2.19.0->pandas-datareader) (2.10)\n",
            "Requirement already satisfied: chardet<4,>=3.0.2 in /usr/local/lib/python3.7/dist-packages (from requests>=2.19.0->pandas-datareader) (3.0.4)\n",
            "Requirement already satisfied: certifi>=2017.4.17 in /usr/local/lib/python3.7/dist-packages (from requests>=2.19.0->pandas-datareader) (2022.9.24)\n",
            "Requirement already satisfied: urllib3!=1.25.0,!=1.25.1,<1.26,>=1.21.1 in /usr/local/lib/python3.7/dist-packages (from requests>=2.19.0->pandas-datareader) (1.24.3)\n",
            "Looking in indexes: https://pypi.org/simple, https://us-python.pkg.dev/colab-wheels/public/simple/\n",
            "Requirement already satisfied: pandas-datareader in /usr/local/lib/python3.7/dist-packages (0.9.0)\n",
            "Collecting pandas-datareader\n",
            "  Downloading pandas_datareader-0.10.0-py3-none-any.whl (109 kB)\n",
            "\u001b[K     |████████████████████████████████| 109 kB 22.3 MB/s \n",
            "\u001b[?25hRequirement already satisfied: requests>=2.19.0 in /usr/local/lib/python3.7/dist-packages (from pandas-datareader) (2.23.0)\n",
            "Requirement already satisfied: lxml in /usr/local/lib/python3.7/dist-packages (from pandas-datareader) (4.9.1)\n",
            "Requirement already satisfied: pandas>=0.23 in /usr/local/lib/python3.7/dist-packages (from pandas-datareader) (1.3.5)\n",
            "Requirement already satisfied: python-dateutil>=2.7.3 in /usr/local/lib/python3.7/dist-packages (from pandas>=0.23->pandas-datareader) (2.8.2)\n",
            "Requirement already satisfied: pytz>=2017.3 in /usr/local/lib/python3.7/dist-packages (from pandas>=0.23->pandas-datareader) (2022.4)\n",
            "Requirement already satisfied: numpy>=1.17.3 in /usr/local/lib/python3.7/dist-packages (from pandas>=0.23->pandas-datareader) (1.21.6)\n",
            "Requirement already satisfied: six>=1.5 in /usr/local/lib/python3.7/dist-packages (from python-dateutil>=2.7.3->pandas>=0.23->pandas-datareader) (1.15.0)\n",
            "Requirement already satisfied: chardet<4,>=3.0.2 in /usr/local/lib/python3.7/dist-packages (from requests>=2.19.0->pandas-datareader) (3.0.4)\n",
            "Requirement already satisfied: urllib3!=1.25.0,!=1.25.1,<1.26,>=1.21.1 in /usr/local/lib/python3.7/dist-packages (from requests>=2.19.0->pandas-datareader) (1.24.3)\n",
            "Requirement already satisfied: certifi>=2017.4.17 in /usr/local/lib/python3.7/dist-packages (from requests>=2.19.0->pandas-datareader) (2022.9.24)\n",
            "Requirement already satisfied: idna<3,>=2.5 in /usr/local/lib/python3.7/dist-packages (from requests>=2.19.0->pandas-datareader) (2.10)\n",
            "Installing collected packages: pandas-datareader\n",
            "  Attempting uninstall: pandas-datareader\n",
            "    Found existing installation: pandas-datareader 0.9.0\n",
            "    Uninstalling pandas-datareader-0.9.0:\n",
            "      Successfully uninstalled pandas-datareader-0.9.0\n",
            "Successfully installed pandas-datareader-0.10.0\n",
            "Looking in indexes: https://pypi.org/simple, https://us-python.pkg.dev/colab-wheels/public/simple/\n",
            "Collecting yfinance\n",
            "  Downloading yfinance-0.1.79-py2.py3-none-any.whl (29 kB)\n",
            "Requirement already satisfied: appdirs>=1.4.4 in /usr/local/lib/python3.7/dist-packages (from yfinance) (1.4.4)\n",
            "Requirement already satisfied: lxml>=4.5.1 in /usr/local/lib/python3.7/dist-packages (from yfinance) (4.9.1)\n",
            "Requirement already satisfied: multitasking>=0.0.7 in /usr/local/lib/python3.7/dist-packages (from yfinance) (0.0.11)\n",
            "Requirement already satisfied: numpy>=1.15 in /usr/local/lib/python3.7/dist-packages (from yfinance) (1.21.6)\n",
            "Requirement already satisfied: pandas>=0.24.0 in /usr/local/lib/python3.7/dist-packages (from yfinance) (1.3.5)\n",
            "Collecting requests>=2.26\n",
            "  Downloading requests-2.28.1-py3-none-any.whl (62 kB)\n",
            "\u001b[K     |████████████████████████████████| 62 kB 1.4 MB/s \n",
            "\u001b[?25hRequirement already satisfied: pytz>=2017.3 in /usr/local/lib/python3.7/dist-packages (from pandas>=0.24.0->yfinance) (2022.4)\n",
            "Requirement already satisfied: python-dateutil>=2.7.3 in /usr/local/lib/python3.7/dist-packages (from pandas>=0.24.0->yfinance) (2.8.2)\n",
            "Requirement already satisfied: six>=1.5 in /usr/local/lib/python3.7/dist-packages (from python-dateutil>=2.7.3->pandas>=0.24.0->yfinance) (1.15.0)\n",
            "Requirement already satisfied: urllib3<1.27,>=1.21.1 in /usr/local/lib/python3.7/dist-packages (from requests>=2.26->yfinance) (1.24.3)\n",
            "Requirement already satisfied: certifi>=2017.4.17 in /usr/local/lib/python3.7/dist-packages (from requests>=2.26->yfinance) (2022.9.24)\n",
            "Requirement already satisfied: idna<4,>=2.5 in /usr/local/lib/python3.7/dist-packages (from requests>=2.26->yfinance) (2.10)\n",
            "Requirement already satisfied: charset-normalizer<3,>=2 in /usr/local/lib/python3.7/dist-packages (from requests>=2.26->yfinance) (2.1.1)\n",
            "Installing collected packages: requests, yfinance\n",
            "  Attempting uninstall: requests\n",
            "    Found existing installation: requests 2.23.0\n",
            "    Uninstalling requests-2.23.0:\n",
            "      Successfully uninstalled requests-2.23.0\n",
            "Successfully installed requests-2.28.1 yfinance-0.1.79\n"
          ]
        }
      ],
      "source": [
        "!pip install pandas-datareader\n",
        "!pip install --upgrade pandas-datareader\n",
        "!pip install yfinance"
      ]
    },
    {
      "cell_type": "code",
      "execution_count": null,
      "metadata": {
        "id": "6fMpHWFKBk-b"
      },
      "outputs": [],
      "source": [
        "import pandas_datareader as pdr\n",
        "import yfinance as yf\n",
        "import datetime\n",
        "import pandas as pd\n",
        "import matplotlib.pyplot as plt\n",
        "import matplotlib\n",
        "matplotlib.style.use('ggplot')\n",
        "\n"
      ]
    },
    {
      "cell_type": "code",
      "execution_count": null,
      "metadata": {
        "id": "WX_PhKcIBk-c"
      },
      "outputs": [],
      "source": [
        "# Início e fim\n",
        "#start = datetime.date(2015,1,1).isoformat()\n",
        "#end = datetime.date(2022,8,27).isoformat()\n",
        "start = '2021-09-08'\n",
        "end = '2022-10-11'"
      ]
    },
    {
      "cell_type": "code",
      "execution_count": null,
      "metadata": {
        "id": "XNuYa6OlBk-d"
      },
      "outputs": [],
      "source": [
        "# Recupera dados\n",
        "ativo = pdr.get_data_yahoo('CSAN3.SA', start=start, end=end)\n",
        "ibov = pdr.get_data_yahoo('BOVA11.SA', start=start, end=end)"
      ]
    },
    {
      "cell_type": "code",
      "execution_count": null,
      "metadata": {
        "id": "iJczymsfBk-e",
        "colab": {
          "base_uri": "https://localhost:8080/",
          "height": 455
        },
        "outputId": "378b0239-8265-4a92-e99d-50c5748357c9"
      },
      "outputs": [
        {
          "output_type": "execute_result",
          "data": {
            "text/plain": [
              "                 High        Low       Open      Close      Volume  Adj Close\n",
              "Date                                                                         \n",
              "2021-09-08  22.290001  21.600000  22.200001  21.700001   9124900.0  20.431698\n",
              "2021-09-09  22.350000  21.420000  21.700001  22.190001   6976700.0  20.893061\n",
              "2021-09-10  22.570000  21.780001  22.389999  21.850000   6923100.0  20.572931\n",
              "2021-09-13  22.930000  22.110001  22.299999  22.620001   7889800.0  21.297928\n",
              "2021-09-14  23.650000  22.799999  22.799999  23.500000  13947400.0  22.126493\n",
              "...               ...        ...        ...        ...         ...        ...\n",
              "2022-10-05  18.400000  17.650000  18.299999  17.900000  10271900.0  17.900000\n",
              "2022-10-06  18.379999  17.940001  18.110001  18.240000   8298500.0  18.240000\n",
              "2022-10-07  18.270000  16.530001  18.209999  16.650000  53257600.0  16.650000\n",
              "2022-10-10  16.480000  15.400000  15.800000  15.400000  93185000.0  15.400000\n",
              "2022-10-11  16.020000  15.250000  15.510000  15.660000  46982700.0  15.660000\n",
              "\n",
              "[274 rows x 6 columns]"
            ],
            "text/html": [
              "\n",
              "  <div id=\"df-4e6dd5e2-e232-4f37-863f-d904e12a0f4a\">\n",
              "    <div class=\"colab-df-container\">\n",
              "      <div>\n",
              "<style scoped>\n",
              "    .dataframe tbody tr th:only-of-type {\n",
              "        vertical-align: middle;\n",
              "    }\n",
              "\n",
              "    .dataframe tbody tr th {\n",
              "        vertical-align: top;\n",
              "    }\n",
              "\n",
              "    .dataframe thead th {\n",
              "        text-align: right;\n",
              "    }\n",
              "</style>\n",
              "<table border=\"1\" class=\"dataframe\">\n",
              "  <thead>\n",
              "    <tr style=\"text-align: right;\">\n",
              "      <th></th>\n",
              "      <th>High</th>\n",
              "      <th>Low</th>\n",
              "      <th>Open</th>\n",
              "      <th>Close</th>\n",
              "      <th>Volume</th>\n",
              "      <th>Adj Close</th>\n",
              "    </tr>\n",
              "    <tr>\n",
              "      <th>Date</th>\n",
              "      <th></th>\n",
              "      <th></th>\n",
              "      <th></th>\n",
              "      <th></th>\n",
              "      <th></th>\n",
              "      <th></th>\n",
              "    </tr>\n",
              "  </thead>\n",
              "  <tbody>\n",
              "    <tr>\n",
              "      <th>2021-09-08</th>\n",
              "      <td>22.290001</td>\n",
              "      <td>21.600000</td>\n",
              "      <td>22.200001</td>\n",
              "      <td>21.700001</td>\n",
              "      <td>9124900.0</td>\n",
              "      <td>20.431698</td>\n",
              "    </tr>\n",
              "    <tr>\n",
              "      <th>2021-09-09</th>\n",
              "      <td>22.350000</td>\n",
              "      <td>21.420000</td>\n",
              "      <td>21.700001</td>\n",
              "      <td>22.190001</td>\n",
              "      <td>6976700.0</td>\n",
              "      <td>20.893061</td>\n",
              "    </tr>\n",
              "    <tr>\n",
              "      <th>2021-09-10</th>\n",
              "      <td>22.570000</td>\n",
              "      <td>21.780001</td>\n",
              "      <td>22.389999</td>\n",
              "      <td>21.850000</td>\n",
              "      <td>6923100.0</td>\n",
              "      <td>20.572931</td>\n",
              "    </tr>\n",
              "    <tr>\n",
              "      <th>2021-09-13</th>\n",
              "      <td>22.930000</td>\n",
              "      <td>22.110001</td>\n",
              "      <td>22.299999</td>\n",
              "      <td>22.620001</td>\n",
              "      <td>7889800.0</td>\n",
              "      <td>21.297928</td>\n",
              "    </tr>\n",
              "    <tr>\n",
              "      <th>2021-09-14</th>\n",
              "      <td>23.650000</td>\n",
              "      <td>22.799999</td>\n",
              "      <td>22.799999</td>\n",
              "      <td>23.500000</td>\n",
              "      <td>13947400.0</td>\n",
              "      <td>22.126493</td>\n",
              "    </tr>\n",
              "    <tr>\n",
              "      <th>...</th>\n",
              "      <td>...</td>\n",
              "      <td>...</td>\n",
              "      <td>...</td>\n",
              "      <td>...</td>\n",
              "      <td>...</td>\n",
              "      <td>...</td>\n",
              "    </tr>\n",
              "    <tr>\n",
              "      <th>2022-10-05</th>\n",
              "      <td>18.400000</td>\n",
              "      <td>17.650000</td>\n",
              "      <td>18.299999</td>\n",
              "      <td>17.900000</td>\n",
              "      <td>10271900.0</td>\n",
              "      <td>17.900000</td>\n",
              "    </tr>\n",
              "    <tr>\n",
              "      <th>2022-10-06</th>\n",
              "      <td>18.379999</td>\n",
              "      <td>17.940001</td>\n",
              "      <td>18.110001</td>\n",
              "      <td>18.240000</td>\n",
              "      <td>8298500.0</td>\n",
              "      <td>18.240000</td>\n",
              "    </tr>\n",
              "    <tr>\n",
              "      <th>2022-10-07</th>\n",
              "      <td>18.270000</td>\n",
              "      <td>16.530001</td>\n",
              "      <td>18.209999</td>\n",
              "      <td>16.650000</td>\n",
              "      <td>53257600.0</td>\n",
              "      <td>16.650000</td>\n",
              "    </tr>\n",
              "    <tr>\n",
              "      <th>2022-10-10</th>\n",
              "      <td>16.480000</td>\n",
              "      <td>15.400000</td>\n",
              "      <td>15.800000</td>\n",
              "      <td>15.400000</td>\n",
              "      <td>93185000.0</td>\n",
              "      <td>15.400000</td>\n",
              "    </tr>\n",
              "    <tr>\n",
              "      <th>2022-10-11</th>\n",
              "      <td>16.020000</td>\n",
              "      <td>15.250000</td>\n",
              "      <td>15.510000</td>\n",
              "      <td>15.660000</td>\n",
              "      <td>46982700.0</td>\n",
              "      <td>15.660000</td>\n",
              "    </tr>\n",
              "  </tbody>\n",
              "</table>\n",
              "<p>274 rows × 6 columns</p>\n",
              "</div>\n",
              "      <button class=\"colab-df-convert\" onclick=\"convertToInteractive('df-4e6dd5e2-e232-4f37-863f-d904e12a0f4a')\"\n",
              "              title=\"Convert this dataframe to an interactive table.\"\n",
              "              style=\"display:none;\">\n",
              "        \n",
              "  <svg xmlns=\"http://www.w3.org/2000/svg\" height=\"24px\"viewBox=\"0 0 24 24\"\n",
              "       width=\"24px\">\n",
              "    <path d=\"M0 0h24v24H0V0z\" fill=\"none\"/>\n",
              "    <path d=\"M18.56 5.44l.94 2.06.94-2.06 2.06-.94-2.06-.94-.94-2.06-.94 2.06-2.06.94zm-11 1L8.5 8.5l.94-2.06 2.06-.94-2.06-.94L8.5 2.5l-.94 2.06-2.06.94zm10 10l.94 2.06.94-2.06 2.06-.94-2.06-.94-.94-2.06-.94 2.06-2.06.94z\"/><path d=\"M17.41 7.96l-1.37-1.37c-.4-.4-.92-.59-1.43-.59-.52 0-1.04.2-1.43.59L10.3 9.45l-7.72 7.72c-.78.78-.78 2.05 0 2.83L4 21.41c.39.39.9.59 1.41.59.51 0 1.02-.2 1.41-.59l7.78-7.78 2.81-2.81c.8-.78.8-2.07 0-2.86zM5.41 20L4 18.59l7.72-7.72 1.47 1.35L5.41 20z\"/>\n",
              "  </svg>\n",
              "      </button>\n",
              "      \n",
              "  <style>\n",
              "    .colab-df-container {\n",
              "      display:flex;\n",
              "      flex-wrap:wrap;\n",
              "      gap: 12px;\n",
              "    }\n",
              "\n",
              "    .colab-df-convert {\n",
              "      background-color: #E8F0FE;\n",
              "      border: none;\n",
              "      border-radius: 50%;\n",
              "      cursor: pointer;\n",
              "      display: none;\n",
              "      fill: #1967D2;\n",
              "      height: 32px;\n",
              "      padding: 0 0 0 0;\n",
              "      width: 32px;\n",
              "    }\n",
              "\n",
              "    .colab-df-convert:hover {\n",
              "      background-color: #E2EBFA;\n",
              "      box-shadow: 0px 1px 2px rgba(60, 64, 67, 0.3), 0px 1px 3px 1px rgba(60, 64, 67, 0.15);\n",
              "      fill: #174EA6;\n",
              "    }\n",
              "\n",
              "    [theme=dark] .colab-df-convert {\n",
              "      background-color: #3B4455;\n",
              "      fill: #D2E3FC;\n",
              "    }\n",
              "\n",
              "    [theme=dark] .colab-df-convert:hover {\n",
              "      background-color: #434B5C;\n",
              "      box-shadow: 0px 1px 3px 1px rgba(0, 0, 0, 0.15);\n",
              "      filter: drop-shadow(0px 1px 2px rgba(0, 0, 0, 0.3));\n",
              "      fill: #FFFFFF;\n",
              "    }\n",
              "  </style>\n",
              "\n",
              "      <script>\n",
              "        const buttonEl =\n",
              "          document.querySelector('#df-4e6dd5e2-e232-4f37-863f-d904e12a0f4a button.colab-df-convert');\n",
              "        buttonEl.style.display =\n",
              "          google.colab.kernel.accessAllowed ? 'block' : 'none';\n",
              "\n",
              "        async function convertToInteractive(key) {\n",
              "          const element = document.querySelector('#df-4e6dd5e2-e232-4f37-863f-d904e12a0f4a');\n",
              "          const dataTable =\n",
              "            await google.colab.kernel.invokeFunction('convertToInteractive',\n",
              "                                                     [key], {});\n",
              "          if (!dataTable) return;\n",
              "\n",
              "          const docLinkHtml = 'Like what you see? Visit the ' +\n",
              "            '<a target=\"_blank\" href=https://colab.research.google.com/notebooks/data_table.ipynb>data table notebook</a>'\n",
              "            + ' to learn more about interactive tables.';\n",
              "          element.innerHTML = '';\n",
              "          dataTable['output_type'] = 'display_data';\n",
              "          await google.colab.output.renderOutput(dataTable, element);\n",
              "          const docLink = document.createElement('div');\n",
              "          docLink.innerHTML = docLinkHtml;\n",
              "          element.appendChild(docLink);\n",
              "        }\n",
              "      </script>\n",
              "    </div>\n",
              "  </div>\n",
              "  "
            ]
          },
          "metadata": {},
          "execution_count": 5
        }
      ],
      "source": [
        "ativo"
      ]
    },
    {
      "cell_type": "code",
      "source": [
        "!pip install plotly==4.14.3\n",
        "!pip install \"notebook>=5.3\" \"ipywidgets>=7.5\"\n",
        "import plotly.graph_objects as go\n"
      ],
      "metadata": {
        "id": "2WVibo1qB_zF",
        "colab": {
          "base_uri": "https://localhost:8080/"
        },
        "outputId": "e0321dbb-2307-4f0b-e9e1-92ac9e10b427"
      },
      "execution_count": null,
      "outputs": [
        {
          "output_type": "stream",
          "name": "stdout",
          "text": [
            "Looking in indexes: https://pypi.org/simple, https://us-python.pkg.dev/colab-wheels/public/simple/\n",
            "Collecting plotly==4.14.3\n",
            "  Downloading plotly-4.14.3-py2.py3-none-any.whl (13.2 MB)\n",
            "\u001b[K     |████████████████████████████████| 13.2 MB 26.0 MB/s \n",
            "\u001b[?25hRequirement already satisfied: six in /usr/local/lib/python3.7/dist-packages (from plotly==4.14.3) (1.15.0)\n",
            "Collecting retrying>=1.3.3\n",
            "  Downloading retrying-1.3.3.tar.gz (10 kB)\n",
            "Building wheels for collected packages: retrying\n",
            "  Building wheel for retrying (setup.py) ... \u001b[?25l\u001b[?25hdone\n",
            "  Created wheel for retrying: filename=retrying-1.3.3-py3-none-any.whl size=11447 sha256=45b7a31e5196ccfe08c857fae35e88cd34fb433686c03b7627a8d3a88d6cb116\n",
            "  Stored in directory: /root/.cache/pip/wheels/f9/8d/8d/f6af3f7f9eea3553bc2fe6d53e4b287dad18b06a861ac56ddf\n",
            "Successfully built retrying\n",
            "Installing collected packages: retrying, plotly\n",
            "  Attempting uninstall: plotly\n",
            "    Found existing installation: plotly 5.5.0\n",
            "    Uninstalling plotly-5.5.0:\n",
            "      Successfully uninstalled plotly-5.5.0\n",
            "Successfully installed plotly-4.14.3 retrying-1.3.3\n",
            "Looking in indexes: https://pypi.org/simple, https://us-python.pkg.dev/colab-wheels/public/simple/\n",
            "Requirement already satisfied: notebook>=5.3 in /usr/local/lib/python3.7/dist-packages (5.5.0)\n",
            "Requirement already satisfied: ipywidgets>=7.5 in /usr/local/lib/python3.7/dist-packages (7.7.1)\n",
            "Requirement already satisfied: nbconvert in /usr/local/lib/python3.7/dist-packages (from notebook>=5.3) (5.6.1)\n",
            "Requirement already satisfied: Send2Trash in /usr/local/lib/python3.7/dist-packages (from notebook>=5.3) (1.8.0)\n",
            "Requirement already satisfied: ipykernel in /usr/local/lib/python3.7/dist-packages (from notebook>=5.3) (5.3.4)\n",
            "Requirement already satisfied: pyzmq>=17 in /usr/local/lib/python3.7/dist-packages (from notebook>=5.3) (23.2.1)\n",
            "Requirement already satisfied: terminado>=0.8.1 in /usr/local/lib/python3.7/dist-packages (from notebook>=5.3) (0.13.3)\n",
            "Requirement already satisfied: jupyter-client>=5.2.0 in /usr/local/lib/python3.7/dist-packages (from notebook>=5.3) (6.1.12)\n",
            "Requirement already satisfied: jupyter-core>=4.4.0 in /usr/local/lib/python3.7/dist-packages (from notebook>=5.3) (4.11.1)\n",
            "Requirement already satisfied: nbformat in /usr/local/lib/python3.7/dist-packages (from notebook>=5.3) (5.7.0)\n",
            "Requirement already satisfied: traitlets>=4.2.1 in /usr/local/lib/python3.7/dist-packages (from notebook>=5.3) (5.1.1)\n",
            "Requirement already satisfied: jinja2 in /usr/local/lib/python3.7/dist-packages (from notebook>=5.3) (2.11.3)\n",
            "Requirement already satisfied: tornado>=4 in /usr/local/lib/python3.7/dist-packages (from notebook>=5.3) (5.1.1)\n",
            "Requirement already satisfied: ipython-genutils in /usr/local/lib/python3.7/dist-packages (from notebook>=5.3) (0.2.0)\n",
            "Requirement already satisfied: jupyterlab-widgets>=1.0.0 in /usr/local/lib/python3.7/dist-packages (from ipywidgets>=7.5) (3.0.3)\n",
            "Requirement already satisfied: widgetsnbextension~=3.6.0 in /usr/local/lib/python3.7/dist-packages (from ipywidgets>=7.5) (3.6.1)\n",
            "Requirement already satisfied: ipython>=4.0.0 in /usr/local/lib/python3.7/dist-packages (from ipywidgets>=7.5) (7.9.0)\n",
            "Requirement already satisfied: pexpect in /usr/local/lib/python3.7/dist-packages (from ipython>=4.0.0->ipywidgets>=7.5) (4.8.0)\n",
            "Collecting jedi>=0.10\n",
            "  Downloading jedi-0.18.1-py2.py3-none-any.whl (1.6 MB)\n",
            "\u001b[K     |████████████████████████████████| 1.6 MB 19.1 MB/s \n",
            "\u001b[?25hRequirement already satisfied: decorator in /usr/local/lib/python3.7/dist-packages (from ipython>=4.0.0->ipywidgets>=7.5) (4.4.2)\n",
            "Requirement already satisfied: setuptools>=18.5 in /usr/local/lib/python3.7/dist-packages (from ipython>=4.0.0->ipywidgets>=7.5) (57.4.0)\n",
            "Requirement already satisfied: backcall in /usr/local/lib/python3.7/dist-packages (from ipython>=4.0.0->ipywidgets>=7.5) (0.2.0)\n",
            "Requirement already satisfied: prompt-toolkit<2.1.0,>=2.0.0 in /usr/local/lib/python3.7/dist-packages (from ipython>=4.0.0->ipywidgets>=7.5) (2.0.10)\n",
            "Requirement already satisfied: pygments in /usr/local/lib/python3.7/dist-packages (from ipython>=4.0.0->ipywidgets>=7.5) (2.6.1)\n",
            "Requirement already satisfied: pickleshare in /usr/local/lib/python3.7/dist-packages (from ipython>=4.0.0->ipywidgets>=7.5) (0.7.5)\n",
            "Requirement already satisfied: parso<0.9.0,>=0.8.0 in /usr/local/lib/python3.7/dist-packages (from jedi>=0.10->ipython>=4.0.0->ipywidgets>=7.5) (0.8.3)\n",
            "Requirement already satisfied: python-dateutil>=2.1 in /usr/local/lib/python3.7/dist-packages (from jupyter-client>=5.2.0->notebook>=5.3) (2.8.2)\n",
            "Requirement already satisfied: wcwidth in /usr/local/lib/python3.7/dist-packages (from prompt-toolkit<2.1.0,>=2.0.0->ipython>=4.0.0->ipywidgets>=7.5) (0.2.5)\n",
            "Requirement already satisfied: six>=1.9.0 in /usr/local/lib/python3.7/dist-packages (from prompt-toolkit<2.1.0,>=2.0.0->ipython>=4.0.0->ipywidgets>=7.5) (1.15.0)\n",
            "Requirement already satisfied: ptyprocess in /usr/local/lib/python3.7/dist-packages (from terminado>=0.8.1->notebook>=5.3) (0.7.0)\n",
            "Requirement already satisfied: MarkupSafe>=0.23 in /usr/local/lib/python3.7/dist-packages (from jinja2->notebook>=5.3) (2.0.1)\n",
            "Requirement already satisfied: bleach in /usr/local/lib/python3.7/dist-packages (from nbconvert->notebook>=5.3) (5.0.1)\n",
            "Requirement already satisfied: mistune<2,>=0.8.1 in /usr/local/lib/python3.7/dist-packages (from nbconvert->notebook>=5.3) (0.8.4)\n",
            "Requirement already satisfied: pandocfilters>=1.4.1 in /usr/local/lib/python3.7/dist-packages (from nbconvert->notebook>=5.3) (1.5.0)\n",
            "Requirement already satisfied: testpath in /usr/local/lib/python3.7/dist-packages (from nbconvert->notebook>=5.3) (0.6.0)\n",
            "Requirement already satisfied: defusedxml in /usr/local/lib/python3.7/dist-packages (from nbconvert->notebook>=5.3) (0.7.1)\n",
            "Requirement already satisfied: entrypoints>=0.2.2 in /usr/local/lib/python3.7/dist-packages (from nbconvert->notebook>=5.3) (0.4)\n",
            "Requirement already satisfied: fastjsonschema in /usr/local/lib/python3.7/dist-packages (from nbformat->notebook>=5.3) (2.16.2)\n",
            "Requirement already satisfied: jsonschema>=2.6 in /usr/local/lib/python3.7/dist-packages (from nbformat->notebook>=5.3) (4.3.3)\n",
            "Requirement already satisfied: importlib-metadata>=3.6 in /usr/local/lib/python3.7/dist-packages (from nbformat->notebook>=5.3) (4.13.0)\n",
            "Requirement already satisfied: zipp>=0.5 in /usr/local/lib/python3.7/dist-packages (from importlib-metadata>=3.6->nbformat->notebook>=5.3) (3.9.0)\n",
            "Requirement already satisfied: typing-extensions>=3.6.4 in /usr/local/lib/python3.7/dist-packages (from importlib-metadata>=3.6->nbformat->notebook>=5.3) (4.1.1)\n",
            "Requirement already satisfied: attrs>=17.4.0 in /usr/local/lib/python3.7/dist-packages (from jsonschema>=2.6->nbformat->notebook>=5.3) (22.1.0)\n",
            "Requirement already satisfied: importlib-resources>=1.4.0 in /usr/local/lib/python3.7/dist-packages (from jsonschema>=2.6->nbformat->notebook>=5.3) (5.10.0)\n",
            "Requirement already satisfied: pyrsistent!=0.17.0,!=0.17.1,!=0.17.2,>=0.14.0 in /usr/local/lib/python3.7/dist-packages (from jsonschema>=2.6->nbformat->notebook>=5.3) (0.18.1)\n",
            "Requirement already satisfied: webencodings in /usr/local/lib/python3.7/dist-packages (from bleach->nbconvert->notebook>=5.3) (0.5.1)\n",
            "Installing collected packages: jedi\n",
            "Successfully installed jedi-0.18.1\n"
          ]
        }
      ]
    },
    {
      "cell_type": "code",
      "source": [
        "plt.figure(figsize=(20,10))\n",
        "plt.plot(ativo.loc[:,[col for col in ativo.columns if col != \"Volume\"]])"
      ],
      "metadata": {
        "id": "F6X0FRZUseM7",
        "colab": {
          "base_uri": "https://localhost:8080/",
          "height": 679
        },
        "outputId": "becc34f2-c87d-4f7e-fa6c-faa19d8d0dc8"
      },
      "execution_count": null,
      "outputs": [
        {
          "output_type": "execute_result",
          "data": {
            "text/plain": [
              "[<matplotlib.lines.Line2D at 0x7f4d248fb990>,\n",
              " <matplotlib.lines.Line2D at 0x7f4d1e54c610>,\n",
              " <matplotlib.lines.Line2D at 0x7f4d1e54c990>,\n",
              " <matplotlib.lines.Line2D at 0x7f4d1e54cb50>,\n",
              " <matplotlib.lines.Line2D at 0x7f4d1e54cd50>]"
            ]
          },
          "metadata": {},
          "execution_count": 7
        },
        {
          "output_type": "display_data",
          "data": {
            "text/plain": [
              "<Figure size 1440x720 with 1 Axes>"
            ],
            "image/png": "[encoded data removed]"
          },
          "metadata": {}
        }
      ]
    },
    {
      "cell_type": "markdown",
      "metadata": {
        "id": "lzQiKd6dBk-o"
      },
      "source": [
        "## Regressão Linear"
      ]
    },
    {
      "cell_type": "markdown",
      "metadata": {
        "id": "_op-l2eUBk-o"
      },
      "source": [
        "Imagine a relação entre horas de estudos e resultado acadêmico.  \n",
        "Quanto mais horas de estudo, melhor o resultado. Pode-se tentar estabelecer uma relação linear entre ambas variáveis."
      ]
    },
    {
      "cell_type": "code",
      "execution_count": null,
      "metadata": {
        "id": "U2-m5fdcBk-p"
      },
      "outputs": [],
      "source": [
        "# Criação da coluna Var\n",
        "ativo['var'] = ativo['Adj Close'].pct_change()\n",
        "ativo = ativo.dropna()\n",
        "\n",
        "ibov['var'] = ibov['Adj Close'].pct_change()\n",
        "ibov = ibov.dropna()\n",
        "\n"
      ]
    },
    {
      "cell_type": "code",
      "execution_count": null,
      "metadata": {
        "id": "3Vmn6RKEBk-q",
        "colab": {
          "base_uri": "https://localhost:8080/"
        },
        "outputId": "b2204557-b382-48be-cca5-e140e03037da"
      },
      "outputs": [
        {
          "output_type": "stream",
          "name": "stderr",
          "text": [
            "/usr/local/lib/python3.7/dist-packages/statsmodels/tsa/tsatools.py:142: FutureWarning: In a future version of pandas all arguments of concat except for the argument 'objs' will be keyword-only\n",
            "  x = pd.concat(x[::order], 1)\n"
          ]
        },
        {
          "output_type": "execute_result",
          "data": {
            "text/plain": [
              "const   -0.000900\n",
              "var      1.080998\n",
              "dtype: float64"
            ]
          },
          "metadata": {},
          "execution_count": 9
        }
      ],
      "source": [
        "import statsmodels.api as sm\n",
        "import numpy as np\n",
        "\n",
        "Y = ativo['var']\n",
        "X = ibov['var']\n",
        "X = sm.add_constant(X)\n",
        "model = sm.OLS(Y,X)\n",
        "results = model.fit()\n",
        "results.params"
      ]
    },
    {
      "cell_type": "code",
      "execution_count": null,
      "metadata": {
        "id": "WrADtFiNBk-r",
        "colab": {
          "base_uri": "https://localhost:8080/"
        },
        "outputId": "ef112275-94c7-49a4-adc8-98f707212a58"
      },
      "outputs": [
        {
          "output_type": "execute_result",
          "data": {
            "text/plain": [
              "273"
            ]
          },
          "metadata": {},
          "execution_count": 10
        }
      ],
      "source": [
        "ibov['var'].size"
      ]
    },
    {
      "cell_type": "code",
      "execution_count": null,
      "metadata": {
        "id": "E_i6_W2cBk-s",
        "colab": {
          "base_uri": "https://localhost:8080/"
        },
        "outputId": "c5a0e5b0-1c01-4ec9-966d-19947f671986"
      },
      "outputs": [
        {
          "output_type": "execute_result",
          "data": {
            "text/plain": [
              "273"
            ]
          },
          "metadata": {},
          "execution_count": 11
        }
      ],
      "source": [
        "ativo['var'].size"
      ]
    },
    {
      "cell_type": "code",
      "execution_count": null,
      "metadata": {
        "id": "mbroLnvkBk-s",
        "colab": {
          "base_uri": "https://localhost:8080/"
        },
        "outputId": "5212e869-b433-401a-e006-8ebab490eccb"
      },
      "outputs": [
        {
          "output_type": "execute_result",
          "data": {
            "text/plain": [
              "DatetimeIndex([], dtype='datetime64[ns]', name='Date', freq=None)"
            ]
          },
          "metadata": {},
          "execution_count": 12
        }
      ],
      "source": [
        "ativo['var'].index.difference(ibov['var'].index)"
      ]
    },
    {
      "cell_type": "code",
      "execution_count": null,
      "metadata": {
        "id": "48MBc9-ABk-t"
      },
      "outputs": [],
      "source": [
        "# Eliminando as linhas estranhas\n",
        "df = pd.concat(\n",
        "    {'ibov':ibov['var'], 'ativo':ativo['var']},\n",
        "    join='inner', # INNER VAI DESCARTAR OS DIAS EM QUE TEMOS UMA VARIÁVEL E NÃO A OUTRA\n",
        "    axis=1\n",
        ")"
      ]
    },
    {
      "cell_type": "code",
      "execution_count": null,
      "metadata": {
        "id": "WkmIPxCGBk-t",
        "colab": {
          "base_uri": "https://localhost:8080/",
          "height": 455
        },
        "outputId": "1d648ca4-8403-4d3f-f686-19b116d0b8c9"
      },
      "outputs": [
        {
          "output_type": "execute_result",
          "data": {
            "text/plain": [
              "                ibov     ativo\n",
              "Date                          \n",
              "2021-09-09  0.022277  0.022581\n",
              "2021-09-10 -0.014618 -0.015322\n",
              "2021-09-13  0.020386  0.035240\n",
              "2021-09-14 -0.003746  0.038904\n",
              "2021-09-15 -0.009132  0.002128\n",
              "...              ...       ...\n",
              "2022-10-05  0.008634 -0.020252\n",
              "2022-10-06  0.001324  0.018994\n",
              "2022-10-07 -0.006081 -0.087171\n",
              "2022-10-10 -0.006207 -0.075075\n",
              "2022-10-11 -0.010617  0.016883\n",
              "\n",
              "[273 rows x 2 columns]"
            ],
            "text/html": [
              "\n",
              "  <div id=\"df-fe30f0db-0aa0-4da1-a6a5-3b391027e2a6\">\n",
              "    <div class=\"colab-df-container\">\n",
              "      <div>\n",
              "<style scoped>\n",
              "    .dataframe tbody tr th:only-of-type {\n",
              "        vertical-align: middle;\n",
              "    }\n",
              "\n",
              "    .dataframe tbody tr th {\n",
              "        vertical-align: top;\n",
              "    }\n",
              "\n",
              "    .dataframe thead th {\n",
              "        text-align: right;\n",
              "    }\n",
              "</style>\n",
              "<table border=\"1\" class=\"dataframe\">\n",
              "  <thead>\n",
              "    <tr style=\"text-align: right;\">\n",
              "      <th></th>\n",
              "      <th>ibov</th>\n",
              "      <th>ativo</th>\n",
              "    </tr>\n",
              "    <tr>\n",
              "      <th>Date</th>\n",
              "      <th></th>\n",
              "      <th></th>\n",
              "    </tr>\n",
              "  </thead>\n",
              "  <tbody>\n",
              "    <tr>\n",
              "      <th>2021-09-09</th>\n",
              "      <td>0.022277</td>\n",
              "      <td>0.022581</td>\n",
              "    </tr>\n",
              "    <tr>\n",
              "      <th>2021-09-10</th>\n",
              "      <td>-0.014618</td>\n",
              "      <td>-0.015322</td>\n",
              "    </tr>\n",
              "    <tr>\n",
              "      <th>2021-09-13</th>\n",
              "      <td>0.020386</td>\n",
              "      <td>0.035240</td>\n",
              "    </tr>\n",
              "    <tr>\n",
              "      <th>2021-09-14</th>\n",
              "      <td>-0.003746</td>\n",
              "      <td>0.038904</td>\n",
              "    </tr>\n",
              "    <tr>\n",
              "      <th>2021-09-15</th>\n",
              "      <td>-0.009132</td>\n",
              "      <td>0.002128</td>\n",
              "    </tr>\n",
              "    <tr>\n",
              "      <th>...</th>\n",
              "      <td>...</td>\n",
              "      <td>...</td>\n",
              "    </tr>\n",
              "    <tr>\n",
              "      <th>2022-10-05</th>\n",
              "      <td>0.008634</td>\n",
              "      <td>-0.020252</td>\n",
              "    </tr>\n",
              "    <tr>\n",
              "      <th>2022-10-06</th>\n",
              "      <td>0.001324</td>\n",
              "      <td>0.018994</td>\n",
              "    </tr>\n",
              "    <tr>\n",
              "      <th>2022-10-07</th>\n",
              "      <td>-0.006081</td>\n",
              "      <td>-0.087171</td>\n",
              "    </tr>\n",
              "    <tr>\n",
              "      <th>2022-10-10</th>\n",
              "      <td>-0.006207</td>\n",
              "      <td>-0.075075</td>\n",
              "    </tr>\n",
              "    <tr>\n",
              "      <th>2022-10-11</th>\n",
              "      <td>-0.010617</td>\n",
              "      <td>0.016883</td>\n",
              "    </tr>\n",
              "  </tbody>\n",
              "</table>\n",
              "<p>273 rows × 2 columns</p>\n",
              "</div>\n",
              "      <button class=\"colab-df-convert\" onclick=\"convertToInteractive('df-fe30f0db-0aa0-4da1-a6a5-3b391027e2a6')\"\n",
              "              title=\"Convert this dataframe to an interactive table.\"\n",
              "              style=\"display:none;\">\n",
              "        \n",
              "  <svg xmlns=\"http://www.w3.org/2000/svg\" height=\"24px\"viewBox=\"0 0 24 24\"\n",
              "       width=\"24px\">\n",
              "    <path d=\"M0 0h24v24H0V0z\" fill=\"none\"/>\n",
              "    <path d=\"M18.56 5.44l.94 2.06.94-2.06 2.06-.94-2.06-.94-.94-2.06-.94 2.06-2.06.94zm-11 1L8.5 8.5l.94-2.06 2.06-.94-2.06-.94L8.5 2.5l-.94 2.06-2.06.94zm10 10l.94 2.06.94-2.06 2.06-.94-2.06-.94-.94-2.06-.94 2.06-2.06.94z\"/><path d=\"M17.41 7.96l-1.37-1.37c-.4-.4-.92-.59-1.43-.59-.52 0-1.04.2-1.43.59L10.3 9.45l-7.72 7.72c-.78.78-.78 2.05 0 2.83L4 21.41c.39.39.9.59 1.41.59.51 0 1.02-.2 1.41-.59l7.78-7.78 2.81-2.81c.8-.78.8-2.07 0-2.86zM5.41 20L4 18.59l7.72-7.72 1.47 1.35L5.41 20z\"/>\n",
              "  </svg>\n",
              "      </button>\n",
              "      \n",
              "  <style>\n",
              "    .colab-df-container {\n",
              "      display:flex;\n",
              "      flex-wrap:wrap;\n",
              "      gap: 12px;\n",
              "    }\n",
              "\n",
              "    .colab-df-convert {\n",
              "      background-color: #E8F0FE;\n",
              "      border: none;\n",
              "      border-radius: 50%;\n",
              "      cursor: pointer;\n",
              "      display: none;\n",
              "      fill: #1967D2;\n",
              "      height: 32px;\n",
              "      padding: 0 0 0 0;\n",
              "      width: 32px;\n",
              "    }\n",
              "\n",
              "    .colab-df-convert:hover {\n",
              "      background-color: #E2EBFA;\n",
              "      box-shadow: 0px 1px 2px rgba(60, 64, 67, 0.3), 0px 1px 3px 1px rgba(60, 64, 67, 0.15);\n",
              "      fill: #174EA6;\n",
              "    }\n",
              "\n",
              "    [theme=dark] .colab-df-convert {\n",
              "      background-color: #3B4455;\n",
              "      fill: #D2E3FC;\n",
              "    }\n",
              "\n",
              "    [theme=dark] .colab-df-convert:hover {\n",
              "      background-color: #434B5C;\n",
              "      box-shadow: 0px 1px 3px 1px rgba(0, 0, 0, 0.15);\n",
              "      filter: drop-shadow(0px 1px 2px rgba(0, 0, 0, 0.3));\n",
              "      fill: #FFFFFF;\n",
              "    }\n",
              "  </style>\n",
              "\n",
              "      <script>\n",
              "        const buttonEl =\n",
              "          document.querySelector('#df-fe30f0db-0aa0-4da1-a6a5-3b391027e2a6 button.colab-df-convert');\n",
              "        buttonEl.style.display =\n",
              "          google.colab.kernel.accessAllowed ? 'block' : 'none';\n",
              "\n",
              "        async function convertToInteractive(key) {\n",
              "          const element = document.querySelector('#df-fe30f0db-0aa0-4da1-a6a5-3b391027e2a6');\n",
              "          const dataTable =\n",
              "            await google.colab.kernel.invokeFunction('convertToInteractive',\n",
              "                                                     [key], {});\n",
              "          if (!dataTable) return;\n",
              "\n",
              "          const docLinkHtml = 'Like what you see? Visit the ' +\n",
              "            '<a target=\"_blank\" href=https://colab.research.google.com/notebooks/data_table.ipynb>data table notebook</a>'\n",
              "            + ' to learn more about interactive tables.';\n",
              "          element.innerHTML = '';\n",
              "          dataTable['output_type'] = 'display_data';\n",
              "          await google.colab.output.renderOutput(dataTable, element);\n",
              "          const docLink = document.createElement('div');\n",
              "          docLink.innerHTML = docLinkHtml;\n",
              "          element.appendChild(docLink);\n",
              "        }\n",
              "      </script>\n",
              "    </div>\n",
              "  </div>\n",
              "  "
            ]
          },
          "metadata": {},
          "execution_count": 14
        }
      ],
      "source": [
        "df"
      ]
    },
    {
      "cell_type": "code",
      "execution_count": null,
      "metadata": {
        "id": "m-cUTU_ABk-u",
        "colab": {
          "base_uri": "https://localhost:8080/",
          "height": 534
        },
        "outputId": "a3e4f2f0-3ee9-47c0-bbb0-90d217e9cada"
      },
      "outputs": [
        {
          "output_type": "execute_result",
          "data": {
            "text/plain": [
              "<matplotlib.axes._subplots.AxesSubplot at 0x7f4d0613bd90>"
            ]
          },
          "metadata": {},
          "execution_count": 15
        },
        {
          "output_type": "display_data",
          "data": {
            "text/plain": [
              "<Figure size 576x576 with 1 Axes>"
            ],
            "image/png": "[encoded data removed]"
          },
          "metadata": {}
        }
      ],
      "source": [
        "df.plot.scatter('ibov','ativo', title = 'Gráfico de Dispersão' , figsize=(8,8))"
      ]
    },
    {
      "cell_type": "code",
      "execution_count": null,
      "metadata": {
        "id": "QGCat-MeBk-u",
        "colab": {
          "base_uri": "https://localhost:8080/"
        },
        "outputId": "ef219dac-3ecd-4fa2-b912-42c0640e8bff"
      },
      "outputs": [
        {
          "output_type": "stream",
          "name": "stderr",
          "text": [
            "/usr/local/lib/python3.7/dist-packages/statsmodels/tsa/tsatools.py:142: FutureWarning: In a future version of pandas all arguments of concat except for the argument 'objs' will be keyword-only\n",
            "  x = pd.concat(x[::order], 1)\n"
          ]
        },
        {
          "output_type": "execute_result",
          "data": {
            "text/plain": [
              "const   -0.000900\n",
              "ibov     1.080998\n",
              "dtype: float64"
            ]
          },
          "metadata": {},
          "execution_count": 16
        }
      ],
      "source": [
        "# Efetuando a regressão para o período)\n",
        "import statsmodels.api as sm\n",
        "import numpy as np\n",
        "\n",
        "Y = df.ativo\n",
        "X = df.ibov\n",
        "X = sm.add_constant(X)\n",
        "model = sm.OLS(Y,X)\n",
        "results = model.fit()\n",
        "results.params"
      ]
    },
    {
      "cell_type": "code",
      "source": [
        "%matplotlib inline\n",
        "\n",
        "import matplotlib.pyplot as plt\n",
        "\n",
        "import statsmodels.api as sm\n",
        "\n",
        "plt.rc(\"figure\", figsize=(16, 8))\n",
        "plt.rc(\"font\", size=14)\n",
        "\n",
        "olsmod = sm.OLS(Y, X)\n",
        "olsres = olsmod.fit()\n",
        "print(olsres.summary())\n",
        "\n"
      ],
      "metadata": {
        "id": "62nMT3w-HbLN",
        "colab": {
          "base_uri": "https://localhost:8080/"
        },
        "outputId": "807cf1c5-27f7-4db3-f3f3-9c25610841bf"
      },
      "execution_count": null,
      "outputs": [
        {
          "output_type": "stream",
          "name": "stdout",
          "text": [
            "                            OLS Regression Results                            \n",
            "==============================================================================\n",
            "Dep. Variable:                  ativo   R-squared:                       0.446\n",
            "Model:                            OLS   Adj. R-squared:                  0.444\n",
            "Method:                 Least Squares   F-statistic:                     218.0\n",
            "Date:                Wed, 19 Oct 2022   Prob (F-statistic):           1.34e-36\n",
            "Time:                        21:52:05   Log-Likelihood:                 739.03\n",
            "No. Observations:                 273   AIC:                            -1474.\n",
            "Df Residuals:                     271   BIC:                            -1467.\n",
            "Df Model:                           1                                         \n",
            "Covariance Type:            nonrobust                                         \n",
            "==============================================================================\n",
            "                 coef    std err          t      P>|t|      [0.025      0.975]\n",
            "------------------------------------------------------------------------------\n",
            "const         -0.0009      0.001     -0.918      0.360      -0.003       0.001\n",
            "ibov           1.0810      0.073     14.764      0.000       0.937       1.225\n",
            "==============================================================================\n",
            "Omnibus:                       39.895   Durbin-Watson:                   1.875\n",
            "Prob(Omnibus):                  0.000   Jarque-Bera (JB):              108.980\n",
            "Skew:                          -0.645   Prob(JB):                     2.16e-24\n",
            "Kurtosis:                       5.813   Cond. No.                         74.6\n",
            "==============================================================================\n",
            "\n",
            "Notes:\n",
            "[1] Standard Errors assume that the covariance matrix of the errors is correctly specified.\n"
          ]
        }
      ]
    },
    {
      "cell_type": "markdown",
      "source": [
        "Propriedades do coeficiente de correlação linear\n",
        " −1 ≤ r ≤ 1\n",
        " Se r ≈ 1 ⇒ correlação forte positiva.\n",
        " Se r ≈ −1 ⇒ correlação forte negativa.\n",
        " Se r ≈ 0 ⇒ não existe correlação linear."
      ],
      "metadata": {
        "id": "Q3JcaDFaGjTT"
      }
    },
    {
      "cell_type": "markdown",
      "source": [
        "https://www.geeksforgeeks.org/interpreting-the-results-of-linear-regression-using-ols-summary/\n",
        "\n",
        "Na regressão existem dois tipos de variáveis, ou seja, variável dependente (também chamada de variável explicada) e variável independente (variável explicativa). \n",
        "\n",
        "A linha de regressão usada aqui é,\n",
        "\n",
        "\\hat{Y}_{i}=-3,2002+0,7529 X_{i}\n",
        "\n",
        "A tabela de resumo da regressão é fornecida abaixo.\n",
        "\n",
        "                                    Resultados de regressão OLS                            \n",
        "        ================================================== ============================\n",
        "        Departamento Variável: y R-quadrado: 0,669\n",
        "        Modelo: OLS Adj. R ao quadrado: 0,667\n",
        "        Método: Estatística F dos Mínimos Quadrados: 299,2\n",
        "        Data: Seg, 01 de março de 2021 Prob (estatística F): 2.33e-37\n",
        "        Hora: 16:19:34 Log-Probabilidade: -88.686\n",
        "        Nº Observações: 150 AIC: 181,4\n",
        "        Df Residuais: 148 BIC: 187,4\n",
        "        Modelo Df: 1                                         \n",
        "        Tipo de covariância: não robusto                                         \n",
        "        ================================================== ============================\n",
        "                         coef std err t P>|t| [0,025 0,975]\n",
        "        -------------------------------------------------- ----------------------------\n",
        "        const -3,2002 0,257 -12,458 0,000 -3,708 -2,693\n",
        "        x1 0,7529 0,044 17,296 0,000 0,667 0,839\n",
        "        ================================================== ============================\n",
        "        Omnibus: 3.538 Durbin-Watson: 1.279\n",
        "        Prob(Omnibus): 0,171 Jarque-Bera (JB): 3,589\n",
        "        Inclinação: 0,357 Prob(JB): 0,166\n",
        "        Curtose: 2.744 Cond. Nº 43.4\n",
        "        ================================================== ============================\n",
        "Variável dependente: Variável dependente é aquela que vai depender de outras variáveis. Nesta análise de regressão Y é nossa variável dependente porque queremos analisar o efeito de X em Y.\n",
        "\n",
        "Modelo: O método dos Mínimos Quadrados Ordinários (OLS) é o modelo mais utilizado devido à sua eficiência. Este modelo fornece a melhor aproximação da linha de regressão populacional verdadeira. O princípio do OLS é minimizar o quadrado dos erros ( ∑e i 2 ).\n",
        "\n",
        "Número de observações: O número de observações é o tamanho da nossa amostra, ou seja, N = 150.\n",
        "\n",
        "Grau de liberdade (df) dos resíduos: \n",
        "Grau de liberdade é o número de observações independentes com base nas quais a soma dos quadrados é calculada.\n",
        "\n",
        "Resíduos Df = 150 – (1+1) = 148\n",
        "\n",
        "Grau de liberdade (Df) é calculado como,      \n",
        "\n",
        " Graus de liberdade,   D. f = N – K\n",
        "\n",
        "Onde, N = tamanho da amostra (nº de observações) e   K = número de variáveis ​​+ 1\n",
        "\n",
        "Df do modelo: \n",
        "Df do modelo = K – 1 = 2 – 1 = 1 ,\n",
        "\n",
        "Onde, K = número de variáveis ​​+ 1\n",
        "\n",
        "\n",
        "\n",
        "                   \n",
        "\n",
        "Termo constante: Os termos constantes são a interseção da linha de regressão. Da linha de regressão (eq…1) o intercepto é -3,002. Na regressão omitimos algumas variáveis ​​independentes que não têm muito impacto na variável dependente, o intercepto informa o valor médio dessas variáveis ​​omitidas e ruídos presentes no modelo.\n",
        "\n",
        "Termo do coeficiente: O termo do coeficiente informa a mudança em Y para uma mudança de unidade em X   , ou seja, se X aumenta em 1 unidade, então Y aumenta em 0,7529. Se você estiver familiarizado com as derivadas, poderá relacioná-las como a taxa de variação de Y em relação a X.\n",
        "\n",
        "Erro padrão dos parâmetros: O erro padrão também é chamado de desvio padrão. O erro padrão mostra a variabilidade amostral desses parâmetros. O erro padrão é calculado por – \n",
        " \n",
        "\n",
        "Erro padrão do termo de interceptação (b1): \n",
        "\n",
        "se\\left(b_{1}\\right)=\\sqrt{\\left(\\frac{\\sum x_{i}^{2}}{n \\sum\\left(x_{i}-\\bar{x}\\ direito)^{2}}\\direito) \\sigma^{2}}\n",
        "\n",
        "Erro padrão do termo do coeficiente (b2): \n",
        "\n",
        "se\\left(b_{2}\\right)=\\sqrt{\\frac{\\sigma^{2}}{\\sum\\left(x_{i}-\\bar{x}\\right)}}\n",
        "\n",
        "Aqui, σ 2 é o erro padrão de regressão (SER) . E σ 2 é igual a RSS( Residual Sum Of Square ie ∑e i 2 ).\n",
        "\n",
        "  \n",
        "\n",
        "t – estatísticas: \n",
        "Em teoria, assumimos que o termo de erro segue a distribuição normal e por isso os parâmetros b 1   e  b 2 também possuem distribuições normais com variância calculada na seção acima.\n",
        "\n",
        " Aquilo é , \n",
        "\n",
        "b 1  ∼ N(B 1 , σ b1 2 )\n",
        "b 2    ∼ N(B 2 , σ b2 2 )\n",
        "Aqui B 1 e B 2  são meios verdadeiros de b1 e b2.\n",
        "\n",
        "t – as estatísticas são calculadas assumindo a seguinte hipótese – \n",
        "\n",
        "H 0  : B 2  = 0 (variável X não tem influência em Y)\n",
        "H a  : B 2  ≠ 0 (X tem impacto significativo em Y)\n",
        "Cálculos para t - estatísticas:          \n",
        "\n",
        "                     t = (b 1 – B 1 ) / se (b 1 )\n",
        "\n",
        " Da tabela de resumo , b 1 = -3,2002 e se(b 1 ) = 0,257, Então,\n",
        "\n",
        "                   t = (-3,2002 – 0) / 0,257 = -12,458\n",
        "\n",
        "Da mesma forma, b 2 = 0,7529 , se(b 2 ) = 0,044\n",
        "\n",
        "                   t = (0,7529 – 0) / 0,044 = 17,296\n",
        "\n",
        "p – valores: \n",
        "Em teoria, lemos que o valor p é a probabilidade de obter a estatística t pelo menos tão contraditória a H 0  calculada a partir da suposição de que a hipótese nula é verdadeira. Na tabela de resumo, podemos ver que o valor P para ambos os parâmetros é igual a 0. Isso não é exatamente 0, mas como temos estatísticas muito maiores (-12,458 e 17,296), o valor p será aproximadamente 0.\n",
        "\n",
        "Se você conhece os níveis de significância, pode ver que podemos rejeitar a hipótese nula em quase todos os níveis de significância.\n",
        "\n",
        "Intervalos de confiança:\n",
        "Existem muitas abordagens para testar a hipótese, incluindo a abordagem do valor-p mencionada acima. A abordagem do intervalo de confiança é uma delas. 5% é o nível de significância padrão (∝) no qual os C.Is são feitos. \n",
        "\n",
        "CI para B 1 é ( b 1 – t ∝/2 se(b 1 ), b 1 + t ∝/2 se(b 1 ) )\n",
        "\n",
        "Como ∝ = 5%, b 1 = -3,2002, se(b 1 ) = 0,257 , da tabela t , t 0,025,148 = 1,655,\n",
        "\n",
        "Depois de colocar os valores, o CI para B 1 é de aprox. (-3,708, -2,693). O mesmo pode ser feito para b 2 também.\n",
        "\n",
        "Ao calcular os valores de p, rejeitamos a hipótese nula, podemos ver o mesmo em CI também. Como 0 não está em nenhum dos intervalos, rejeitaremos a hipótese nula. \n",
        "\n",
        "\n",
        "\n",
        " R – valor ao quadrado: \n",
        "R 2 é o coeficiente de determinação que nos diz quanto de variação percentual da variável independente pode ser explicada pela variável independente. Aqui, a variação de 66,9% em Y pode ser explicada por X. O valor máximo possível de R 2   pode ser 1, significa que quanto maior o valor de R 2  melhor a regressão.\n",
        "\n",
        "F – estatística: \n",
        "O teste F informa a qualidade do ajuste de uma regressão. O teste é semelhante ao teste t ou outros testes que fazemos para a hipótese. A estatística F - é calculada como abaixo -                    \n",
        "\n",
        "F=\\frac{R^{2} /(k-1)}{\\left(1-R^{2}\\right) /(nk)}\n",
        "\n",
        "Inserindo os valores de R 2 , nek, F = (0,669/1) / (0,331/148) = 229,12.\n",
        "\n",
        "Você pode calcular a probabilidade de F > 229,1 para 1 e 148 df, que chega a aprox. 0. A partir disso, rejeitamos novamente a hipótese nula declarada acima. \n",
        "\n",
        "Os demais termos não são usados ​​com frequência. Termos como Skewness e Kurtosis falam sobre a distribuição de dados. A assimetria e a curtose para a distribuição normal são 0 e 3, respectivamente. O teste Jarque-Bera é usado para verificar se um erro tem distribuição normal ou não.  "
      ],
      "metadata": {
        "id": "q7PWQY7MIf6y"
      }
    },
    {
      "cell_type": "code",
      "execution_count": null,
      "metadata": {
        "id": "aA7Y9KGBBk-v",
        "colab": {
          "base_uri": "https://localhost:8080/",
          "height": 452
        },
        "outputId": "ad080eec-6e2e-49de-f0e5-71297e4239d4"
      },
      "outputs": [
        {
          "output_type": "execute_result",
          "data": {
            "text/plain": [
              "<class 'statsmodels.iolib.summary.Summary'>\n",
              "\"\"\"\n",
              "                            OLS Regression Results                            \n",
              "==============================================================================\n",
              "Dep. Variable:                  ativo   R-squared:                       0.446\n",
              "Model:                            OLS   Adj. R-squared:                  0.444\n",
              "Method:                 Least Squares   F-statistic:                     218.0\n",
              "Date:                Wed, 19 Oct 2022   Prob (F-statistic):           1.34e-36\n",
              "Time:                        21:52:05   Log-Likelihood:                 739.03\n",
              "No. Observations:                 273   AIC:                            -1474.\n",
              "Df Residuals:                     271   BIC:                            -1467.\n",
              "Df Model:                           1                                         \n",
              "Covariance Type:            nonrobust                                         \n",
              "==============================================================================\n",
              "                 coef    std err          t      P>|t|      [0.025      0.975]\n",
              "------------------------------------------------------------------------------\n",
              "const         -0.0009      0.001     -0.918      0.360      -0.003       0.001\n",
              "ibov           1.0810      0.073     14.764      0.000       0.937       1.225\n",
              "==============================================================================\n",
              "Omnibus:                       39.895   Durbin-Watson:                   1.875\n",
              "Prob(Omnibus):                  0.000   Jarque-Bera (JB):              108.980\n",
              "Skew:                          -0.645   Prob(JB):                     2.16e-24\n",
              "Kurtosis:                       5.813   Cond. No.                         74.6\n",
              "==============================================================================\n",
              "\n",
              "Notes:\n",
              "[1] Standard Errors assume that the covariance matrix of the errors is correctly specified.\n",
              "\"\"\""
            ],
            "text/html": [
              "<table class=\"simpletable\">\n",
              "<caption>OLS Regression Results</caption>\n",
              "<tr>\n",
              "  <th>Dep. Variable:</th>          <td>ativo</td>      <th>  R-squared:         </th> <td>   0.446</td>\n",
              "</tr>\n",
              "<tr>\n",
              "  <th>Model:</th>                   <td>OLS</td>       <th>  Adj. R-squared:    </th> <td>   0.444</td>\n",
              "</tr>\n",
              "<tr>\n",
              "  <th>Method:</th>             <td>Least Squares</td>  <th>  F-statistic:       </th> <td>   218.0</td>\n",
              "</tr>\n",
              "<tr>\n",
              "  <th>Date:</th>             <td>Wed, 19 Oct 2022</td> <th>  Prob (F-statistic):</th> <td>1.34e-36</td>\n",
              "</tr>\n",
              "<tr>\n",
              "  <th>Time:</th>                 <td>21:52:05</td>     <th>  Log-Likelihood:    </th> <td>  739.03</td>\n",
              "</tr>\n",
              "<tr>\n",
              "  <th>No. Observations:</th>      <td>   273</td>      <th>  AIC:               </th> <td>  -1474.</td>\n",
              "</tr>\n",
              "<tr>\n",
              "  <th>Df Residuals:</th>          <td>   271</td>      <th>  BIC:               </th> <td>  -1467.</td>\n",
              "</tr>\n",
              "<tr>\n",
              "  <th>Df Model:</th>              <td>     1</td>      <th>                     </th>     <td> </td>   \n",
              "</tr>\n",
              "<tr>\n",
              "  <th>Covariance Type:</th>      <td>nonrobust</td>    <th>                     </th>     <td> </td>   \n",
              "</tr>\n",
              "</table>\n",
              "<table class=\"simpletable\">\n",
              "<tr>\n",
              "    <td></td>       <th>coef</th>     <th>std err</th>      <th>t</th>      <th>P>|t|</th>  <th>[0.025</th>    <th>0.975]</th>  \n",
              "</tr>\n",
              "<tr>\n",
              "  <th>const</th> <td>   -0.0009</td> <td>    0.001</td> <td>   -0.918</td> <td> 0.360</td> <td>   -0.003</td> <td>    0.001</td>\n",
              "</tr>\n",
              "<tr>\n",
              "  <th>ibov</th>  <td>    1.0810</td> <td>    0.073</td> <td>   14.764</td> <td> 0.000</td> <td>    0.937</td> <td>    1.225</td>\n",
              "</tr>\n",
              "</table>\n",
              "<table class=\"simpletable\">\n",
              "<tr>\n",
              "  <th>Omnibus:</th>       <td>39.895</td> <th>  Durbin-Watson:     </th> <td>   1.875</td>\n",
              "</tr>\n",
              "<tr>\n",
              "  <th>Prob(Omnibus):</th> <td> 0.000</td> <th>  Jarque-Bera (JB):  </th> <td> 108.980</td>\n",
              "</tr>\n",
              "<tr>\n",
              "  <th>Skew:</th>          <td>-0.645</td> <th>  Prob(JB):          </th> <td>2.16e-24</td>\n",
              "</tr>\n",
              "<tr>\n",
              "  <th>Kurtosis:</th>      <td> 5.813</td> <th>  Cond. No.          </th> <td>    74.6</td>\n",
              "</tr>\n",
              "</table><br/><br/>Notes:<br/>[1] Standard Errors assume that the covariance matrix of the errors is correctly specified."
            ]
          },
          "metadata": {},
          "execution_count": 18
        }
      ],
      "source": [
        "results.summary()"
      ]
    },
    {
      "cell_type": "code",
      "execution_count": null,
      "metadata": {
        "id": "vqSGOYsqBk-v",
        "colab": {
          "base_uri": "https://localhost:8080/"
        },
        "outputId": "f1b4dbce-1722-4f89-d9fa-b8aad718cad4"
      },
      "outputs": [
        {
          "output_type": "execute_result",
          "data": {
            "text/plain": [
              "1.080997853215159"
            ]
          },
          "metadata": {},
          "execution_count": 19
        }
      ],
      "source": [
        "# Regressão em janela móvel\n",
        "# Para isso, usaremos a fórmula de beta (covariancia sobre variancia)\n",
        "\n",
        "def calc_beta(df):\n",
        "    np_array = df.values\n",
        "    m = np_array[:,0]\n",
        "    s = np_array[:,1]\n",
        "\n",
        "    covariance = np.cov(s,m)\n",
        "    beta = covariance[0,1]/covariance[1,1]\n",
        "    return beta\n",
        "\n",
        "\n",
        "# Cálculo para período total bate com o da regressão do statsmodels\n",
        "calc_beta(df)"
      ]
    },
    {
      "cell_type": "code",
      "execution_count": null,
      "metadata": {
        "id": "xAS4scrNBk-w"
      },
      "outputs": [],
      "source": [
        "# Janela que percorre o dataframe\n",
        "\n",
        "def rolling_apply(df, period, func, min_periods=None):\n",
        "    if min_periods is None:\n",
        "        min_periods = period\n",
        "    result = pd.Series(np.nan, index=df.index)\n",
        "\n",
        "    for i in range(1, len(df)+1):\n",
        "        sub_df = df.iloc[max(i-period, 0):i,:] \n",
        "        if len(sub_df) >= min_periods:\n",
        "            idx = sub_df.index[-1]\n",
        "            result[idx] = func(sub_df)\n",
        "    return result\n",
        "\n",
        "\n",
        "\n",
        "\n",
        "df['beta'] = np.nan\n",
        "period = 252\n",
        "beta = rolling_apply(df[['ibov','ativo']], period, calc_beta, min_periods = period)  \n",
        "beta.name = 'beta'\n",
        "df.update(beta)"
      ]
    },
    {
      "cell_type": "code",
      "source": [
        "from sklearn.model_selection import train_test_split\n",
        "from sklearn.linear_model import LinearRegression\n",
        "from sklearn.metrics import mean_squared_error\n",
        "#import numpy as np  \n"
      ],
      "metadata": {
        "id": "FsSgbrrJuFW6"
      },
      "execution_count": null,
      "outputs": []
    },
    {
      "cell_type": "code",
      "source": [
        "# Carrega o arquivo csv para um pandas dataset\n",
        "dataset = pd.read_csv('https://raw.githubusercontent.com/ZaqueMendes/Quant/main/CSAN3.SA.csv')\n",
        "\n",
        "\n",
        "# Converte o campo Date de string para o formato datetime\n",
        "dataset['Date'] = pd.to_datetime(dataset['Date'])\n",
        "\n",
        "# Mostra a tabela do Ativo\n",
        "dataset"
      ],
      "metadata": {
        "id": "XJ-RXdCJvCw6",
        "colab": {
          "base_uri": "https://localhost:8080/",
          "height": 424
        },
        "outputId": "273c1e41-0699-4a7a-96f0-9c0ef293a71e"
      },
      "execution_count": null,
      "outputs": [
        {
          "output_type": "execute_result",
          "data": {
            "text/plain": [
              "          Date       Open       High        Low      Close  Adj Close  \\\n",
              "0   2021-10-11  23.430000  23.750000  22.780001  22.799999  21.467407   \n",
              "1   2021-10-13  22.930000  23.690001  22.879999  23.520000  22.145325   \n",
              "2   2021-10-14  23.690001  23.700001  23.260000  23.500000  22.126493   \n",
              "3   2021-10-15  23.500000  23.500000  23.110001  23.250000  21.891106   \n",
              "4   2021-10-18  23.059999  23.590000  22.830000  23.260000  21.900520   \n",
              "..         ...        ...        ...        ...        ...        ...   \n",
              "245 2022-10-04  18.969999  19.180000  18.129999  18.270000  18.270000   \n",
              "246 2022-10-05  18.299999  18.400000  17.650000  17.900000  17.900000   \n",
              "247 2022-10-06  18.110001  18.379999  17.940001  18.240000  18.240000   \n",
              "248 2022-10-07  18.209999  18.270000  16.530001  16.650000  16.650000   \n",
              "249 2022-10-10  15.800000  16.480000  15.440000  15.400000  15.400000   \n",
              "\n",
              "       Volume  \n",
              "0    11854400  \n",
              "1     7844000  \n",
              "2     3525600  \n",
              "3     7800300  \n",
              "4     3406900  \n",
              "..        ...  \n",
              "245   5786600  \n",
              "246  10271900  \n",
              "247   8298500  \n",
              "248  53257600  \n",
              "249  92782500  \n",
              "\n",
              "[250 rows x 7 columns]"
            ],
            "text/html": [
              "\n",
              "  <div id=\"df-043c3174-913e-476d-9cc0-cbebcc5c94cf\">\n",
              "    <div class=\"colab-df-container\">\n",
              "      <div>\n",
              "<style scoped>\n",
              "    .dataframe tbody tr th:only-of-type {\n",
              "        vertical-align: middle;\n",
              "    }\n",
              "\n",
              "    .dataframe tbody tr th {\n",
              "        vertical-align: top;\n",
              "    }\n",
              "\n",
              "    .dataframe thead th {\n",
              "        text-align: right;\n",
              "    }\n",
              "</style>\n",
              "<table border=\"1\" class=\"dataframe\">\n",
              "  <thead>\n",
              "    <tr style=\"text-align: right;\">\n",
              "      <th></th>\n",
              "      <th>Date</th>\n",
              "      <th>Open</th>\n",
              "      <th>High</th>\n",
              "      <th>Low</th>\n",
              "      <th>Close</th>\n",
              "      <th>Adj Close</th>\n",
              "      <th>Volume</th>\n",
              "    </tr>\n",
              "  </thead>\n",
              "  <tbody>\n",
              "    <tr>\n",
              "      <th>0</th>\n",
              "      <td>2021-10-11</td>\n",
              "      <td>23.430000</td>\n",
              "      <td>23.750000</td>\n",
              "      <td>22.780001</td>\n",
              "      <td>22.799999</td>\n",
              "      <td>21.467407</td>\n",
              "      <td>11854400</td>\n",
              "    </tr>\n",
              "    <tr>\n",
              "      <th>1</th>\n",
              "      <td>2021-10-13</td>\n",
              "      <td>22.930000</td>\n",
              "      <td>23.690001</td>\n",
              "      <td>22.879999</td>\n",
              "      <td>23.520000</td>\n",
              "      <td>22.145325</td>\n",
              "      <td>7844000</td>\n",
              "    </tr>\n",
              "    <tr>\n",
              "      <th>2</th>\n",
              "      <td>2021-10-14</td>\n",
              "      <td>23.690001</td>\n",
              "      <td>23.700001</td>\n",
              "      <td>23.260000</td>\n",
              "      <td>23.500000</td>\n",
              "      <td>22.126493</td>\n",
              "      <td>3525600</td>\n",
              "    </tr>\n",
              "    <tr>\n",
              "      <th>3</th>\n",
              "      <td>2021-10-15</td>\n",
              "      <td>23.500000</td>\n",
              "      <td>23.500000</td>\n",
              "      <td>23.110001</td>\n",
              "      <td>23.250000</td>\n",
              "      <td>21.891106</td>\n",
              "      <td>7800300</td>\n",
              "    </tr>\n",
              "    <tr>\n",
              "      <th>4</th>\n",
              "      <td>2021-10-18</td>\n",
              "      <td>23.059999</td>\n",
              "      <td>23.590000</td>\n",
              "      <td>22.830000</td>\n",
              "      <td>23.260000</td>\n",
              "      <td>21.900520</td>\n",
              "      <td>3406900</td>\n",
              "    </tr>\n",
              "    <tr>\n",
              "      <th>...</th>\n",
              "      <td>...</td>\n",
              "      <td>...</td>\n",
              "      <td>...</td>\n",
              "      <td>...</td>\n",
              "      <td>...</td>\n",
              "      <td>...</td>\n",
              "      <td>...</td>\n",
              "    </tr>\n",
              "    <tr>\n",
              "      <th>245</th>\n",
              "      <td>2022-10-04</td>\n",
              "      <td>18.969999</td>\n",
              "      <td>19.180000</td>\n",
              "      <td>18.129999</td>\n",
              "      <td>18.270000</td>\n",
              "      <td>18.270000</td>\n",
              "      <td>5786600</td>\n",
              "    </tr>\n",
              "    <tr>\n",
              "      <th>246</th>\n",
              "      <td>2022-10-05</td>\n",
              "      <td>18.299999</td>\n",
              "      <td>18.400000</td>\n",
              "      <td>17.650000</td>\n",
              "      <td>17.900000</td>\n",
              "      <td>17.900000</td>\n",
              "      <td>10271900</td>\n",
              "    </tr>\n",
              "    <tr>\n",
              "      <th>247</th>\n",
              "      <td>2022-10-06</td>\n",
              "      <td>18.110001</td>\n",
              "      <td>18.379999</td>\n",
              "      <td>17.940001</td>\n",
              "      <td>18.240000</td>\n",
              "      <td>18.240000</td>\n",
              "      <td>8298500</td>\n",
              "    </tr>\n",
              "    <tr>\n",
              "      <th>248</th>\n",
              "      <td>2022-10-07</td>\n",
              "      <td>18.209999</td>\n",
              "      <td>18.270000</td>\n",
              "      <td>16.530001</td>\n",
              "      <td>16.650000</td>\n",
              "      <td>16.650000</td>\n",
              "      <td>53257600</td>\n",
              "    </tr>\n",
              "    <tr>\n",
              "      <th>249</th>\n",
              "      <td>2022-10-10</td>\n",
              "      <td>15.800000</td>\n",
              "      <td>16.480000</td>\n",
              "      <td>15.440000</td>\n",
              "      <td>15.400000</td>\n",
              "      <td>15.400000</td>\n",
              "      <td>92782500</td>\n",
              "    </tr>\n",
              "  </tbody>\n",
              "</table>\n",
              "<p>250 rows × 7 columns</p>\n",
              "</div>\n",
              "      <button class=\"colab-df-convert\" onclick=\"convertToInteractive('df-043c3174-913e-476d-9cc0-cbebcc5c94cf')\"\n",
              "              title=\"Convert this dataframe to an interactive table.\"\n",
              "              style=\"display:none;\">\n",
              "        \n",
              "  <svg xmlns=\"http://www.w3.org/2000/svg\" height=\"24px\"viewBox=\"0 0 24 24\"\n",
              "       width=\"24px\">\n",
              "    <path d=\"M0 0h24v24H0V0z\" fill=\"none\"/>\n",
              "    <path d=\"M18.56 5.44l.94 2.06.94-2.06 2.06-.94-2.06-.94-.94-2.06-.94 2.06-2.06.94zm-11 1L8.5 8.5l.94-2.06 2.06-.94-2.06-.94L8.5 2.5l-.94 2.06-2.06.94zm10 10l.94 2.06.94-2.06 2.06-.94-2.06-.94-.94-2.06-.94 2.06-2.06.94z\"/><path d=\"M17.41 7.96l-1.37-1.37c-.4-.4-.92-.59-1.43-.59-.52 0-1.04.2-1.43.59L10.3 9.45l-7.72 7.72c-.78.78-.78 2.05 0 2.83L4 21.41c.39.39.9.59 1.41.59.51 0 1.02-.2 1.41-.59l7.78-7.78 2.81-2.81c.8-.78.8-2.07 0-2.86zM5.41 20L4 18.59l7.72-7.72 1.47 1.35L5.41 20z\"/>\n",
              "  </svg>\n",
              "      </button>\n",
              "      \n",
              "  <style>\n",
              "    .colab-df-container {\n",
              "      display:flex;\n",
              "      flex-wrap:wrap;\n",
              "      gap: 12px;\n",
              "    }\n",
              "\n",
              "    .colab-df-convert {\n",
              "      background-color: #E8F0FE;\n",
              "      border: none;\n",
              "      border-radius: 50%;\n",
              "      cursor: pointer;\n",
              "      display: none;\n",
              "      fill: #1967D2;\n",
              "      height: 32px;\n",
              "      padding: 0 0 0 0;\n",
              "      width: 32px;\n",
              "    }\n",
              "\n",
              "    .colab-df-convert:hover {\n",
              "      background-color: #E2EBFA;\n",
              "      box-shadow: 0px 1px 2px rgba(60, 64, 67, 0.3), 0px 1px 3px 1px rgba(60, 64, 67, 0.15);\n",
              "      fill: #174EA6;\n",
              "    }\n",
              "\n",
              "    [theme=dark] .colab-df-convert {\n",
              "      background-color: #3B4455;\n",
              "      fill: #D2E3FC;\n",
              "    }\n",
              "\n",
              "    [theme=dark] .colab-df-convert:hover {\n",
              "      background-color: #434B5C;\n",
              "      box-shadow: 0px 1px 3px 1px rgba(0, 0, 0, 0.15);\n",
              "      filter: drop-shadow(0px 1px 2px rgba(0, 0, 0, 0.3));\n",
              "      fill: #FFFFFF;\n",
              "    }\n",
              "  </style>\n",
              "\n",
              "      <script>\n",
              "        const buttonEl =\n",
              "          document.querySelector('#df-043c3174-913e-476d-9cc0-cbebcc5c94cf button.colab-df-convert');\n",
              "        buttonEl.style.display =\n",
              "          google.colab.kernel.accessAllowed ? 'block' : 'none';\n",
              "\n",
              "        async function convertToInteractive(key) {\n",
              "          const element = document.querySelector('#df-043c3174-913e-476d-9cc0-cbebcc5c94cf');\n",
              "          const dataTable =\n",
              "            await google.colab.kernel.invokeFunction('convertToInteractive',\n",
              "                                                     [key], {});\n",
              "          if (!dataTable) return;\n",
              "\n",
              "          const docLinkHtml = 'Like what you see? Visit the ' +\n",
              "            '<a target=\"_blank\" href=https://colab.research.google.com/notebooks/data_table.ipynb>data table notebook</a>'\n",
              "            + ' to learn more about interactive tables.';\n",
              "          element.innerHTML = '';\n",
              "          dataTable['output_type'] = 'display_data';\n",
              "          await google.colab.output.renderOutput(dataTable, element);\n",
              "          const docLink = document.createElement('div');\n",
              "          docLink.innerHTML = docLinkHtml;\n",
              "          element.appendChild(docLink);\n",
              "        }\n",
              "      </script>\n",
              "    </div>\n",
              "  </div>\n",
              "  "
            ]
          },
          "metadata": {},
          "execution_count": 22
        }
      ]
    },
    {
      "cell_type": "code",
      "source": [
        "# Separa Valores lidos, e valor a ser previsto\n",
        "atributos = ['Open', 'High', 'Low', 'Volume']\n",
        "# Variável a ser prevista\n",
        "atrib_prev = ['Adj Close']\n",
        "# Criando objetos\n",
        "x = dataset[atributos].values\n",
        "y = dataset[atrib_prev].values\n",
        "\n",
        "# Divide 75% dos dados aleatoriamente para treino e o restante para teste.\n",
        "X_treino, X_teste, y_treino, y_teste = train_test_split(x, y, random_state=42)\n",
        "\n",
        "##Treinamento da máquina\n",
        "# Modelo de regressão linear\n",
        "modelo = LinearRegression()\n",
        "# Treina o modelo\n",
        "modelo.fit(X_treino, y_treino)\n",
        "\n",
        "\n",
        "# Predizer 21 resultados\n",
        "\n",
        "predicao = (modelo.predict(X_teste[:21]))\n",
        "\n",
        "\n",
        "\n",
        "\n",
        "#print(modelo.predict(X_teste[:21]))\n",
        "\n",
        "print(predicao)\n",
        "\n",
        "mediapredicao = sum(predicao) / len(predicao)\n",
        "\n",
        "\n",
        "#print(\"A média é =\",sum(predicao) / len(predicao));\n",
        "\n",
        "print(\"A média é =\", mediapredicao);\n",
        "\n",
        "\n",
        "# Validando o modelo\n",
        "# usando mean_squared_error\n",
        "RMSE = mean_squared_error(y_teste, modelo.predict(X_teste))**0.5\n",
        "print(\"Média de erro {0}\".format(RMSE))\n",
        "\n",
        "pontoentrada = mediapredicao - (RMSE*10)\n",
        "\n",
        "stop = (RMSE / mediapredicao)* 100\n",
        "\n",
        "gainparcial = mediapredicao -  RMSE\n",
        "\n",
        "#Media - Erro  =  Entrada\n",
        "print(\"O ponto de entrada é comprar abaixo de: \", pontoentrada)\n",
        "print(\"O percentual de stop é de (%) : \", stop)\n",
        "print(\"O percentual de Gain é de (%) : \", 2 * stop)\n",
        "\n",
        "print(\"O objetivo da operação é: \", gainparcial)"
      ],
      "metadata": {
        "id": "ksX7bGjsvSjj",
        "colab": {
          "base_uri": "https://localhost:8080/"
        },
        "outputId": "dde1c7a3-a5f0-4041-a433-565dcea431f0"
      },
      "execution_count": null,
      "outputs": [
        {
          "output_type": "stream",
          "name": "stdout",
          "text": [
            "[[17.91605039]\n",
            " [21.20290696]\n",
            " [21.43839277]\n",
            " [19.2678926 ]\n",
            " [23.20257466]\n",
            " [17.4162364 ]\n",
            " [18.17744785]\n",
            " [17.96629614]\n",
            " [20.82571368]\n",
            " [20.25907599]\n",
            " [18.62746214]\n",
            " [19.97858886]\n",
            " [18.27002231]\n",
            " [17.6718477 ]\n",
            " [21.13243907]\n",
            " [19.30845753]\n",
            " [17.60749411]\n",
            " [19.85862723]\n",
            " [18.51245371]\n",
            " [20.26280539]\n",
            " [18.18763798]]\n",
            "A média é = [19.38525826]\n",
            "Média de erro 0.4139871001125027\n",
            "O ponto de entrada é comprar abaixo de:  [15.24538726]\n",
            "O percentual de stop é de (%) :  [2.13557691]\n",
            "O percentual de Gain é de (%) :  [4.27115383]\n",
            "O objetivo da operação é:  [18.97127116]\n"
          ]
        }
      ]
    },
    {
      "cell_type": "code",
      "source": [
        "#Grafico de 21 Pregões com as predições\n",
        "#Testar entrada abaixo da mínima da média do período Linha Verde\n",
        "\n",
        "\n",
        "\n",
        "\n",
        "plt.figure(figsize=(20,10))\n",
        "\n",
        "plt.axhline(y = pontoentrada, color = 'g', linestyle = '--', label = 'Média') \n",
        "\n",
        "\n",
        "plt.plot(predicao, color = 'orange',  label ='Valores')\n",
        "# plt.plot(x, label ='Pregões')\n",
        "\n",
        "plt.legend()\n",
        "\n",
        "\n",
        "plt.plot(predicao)"
      ],
      "metadata": {
        "id": "0kMatN4gKVnN",
        "colab": {
          "base_uri": "https://localhost:8080/",
          "height": 613
        },
        "outputId": "2f4fa87a-5ab4-450b-ccf5-16ecbd4d06f1"
      },
      "execution_count": null,
      "outputs": [
        {
          "output_type": "execute_result",
          "data": {
            "text/plain": [
              "[<matplotlib.lines.Line2D at 0x7f4d05620990>]"
            ]
          },
          "metadata": {},
          "execution_count": 24
        },
        {
          "output_type": "display_data",
          "data": {
            "text/plain": [
              "<Figure size 1440x720 with 1 Axes>"
            ],
            "image/png": "[encoded data removed]"
          },
          "metadata": {
            "needs_background": "light"
          }
        }
      ]
    },
    {
      "cell_type": "markdown",
      "source": [
        "Entrada:"
      ],
      "metadata": {
        "id": "Cl-B_SvSuz2o"
      }
    },
    {
      "cell_type": "markdown",
      "source": [
        "xx/xx/22  -  Qtde  2000  -  Valor  xxxxx"
      ],
      "metadata": {
        "id": "sAKyn0j2u4Li"
      }
    },
    {
      "cell_type": "code",
      "source": [
        "date_1 = \"11-10-2022\"\n",
        "qtde_compra = 2000\n",
        "valor_ativo = 15.40\n",
        "vpa = 8.37\n",
        "lpa = 2.63\n",
        "\n",
        "\n",
        "valuation = math.sqrt(22.5 * lpa * vpa )\n",
        "valor_total = (qtde_compra * valor_ativo)\n",
        "print(\"Compra de \", qtde_compra, \" ações da CSAN por R$ \" , valor_total, \" em \" , date_1)\n",
        "print(\"Alvo por ação = Valuation = \" , valuation)"
      ],
      "metadata": {
        "id": "wIMKqp7xvtyW",
        "colab": {
          "base_uri": "https://localhost:8080/",
          "height": 235
        },
        "outputId": "e490e3b9-4c0e-4cab-ba60-6c1ddcd64ee4"
      },
      "execution_count": null,
      "outputs": [
        {
          "output_type": "error",
          "ename": "NameError",
          "evalue": "ignored",
          "traceback": [
            "\u001b[0;31m---------------------------------------------------------------------------\u001b[0m",
            "\u001b[0;31mNameError\u001b[0m                                 Traceback (most recent call last)",
            "\u001b[0;32m<ipython-input-25-e85fb11e6c62>\u001b[0m in \u001b[0;36m<module>\u001b[0;34m\u001b[0m\n\u001b[1;32m      6\u001b[0m \u001b[0;34m\u001b[0m\u001b[0m\n\u001b[1;32m      7\u001b[0m \u001b[0;34m\u001b[0m\u001b[0m\n\u001b[0;32m----> 8\u001b[0;31m \u001b[0mvaluation\u001b[0m \u001b[0;34m=\u001b[0m \u001b[0mmath\u001b[0m\u001b[0;34m.\u001b[0m\u001b[0msqrt\u001b[0m\u001b[0;34m(\u001b[0m\u001b[0;36m22.5\u001b[0m \u001b[0;34m*\u001b[0m \u001b[0mlpa\u001b[0m \u001b[0;34m*\u001b[0m \u001b[0mvpa\u001b[0m \u001b[0;34m)\u001b[0m\u001b[0;34m\u001b[0m\u001b[0;34m\u001b[0m\u001b[0m\n\u001b[0m\u001b[1;32m      9\u001b[0m \u001b[0mvalor_total\u001b[0m \u001b[0;34m=\u001b[0m \u001b[0;34m(\u001b[0m\u001b[0mqtde_compra\u001b[0m \u001b[0;34m*\u001b[0m \u001b[0mvalor_ativo\u001b[0m\u001b[0;34m)\u001b[0m\u001b[0;34m\u001b[0m\u001b[0;34m\u001b[0m\u001b[0m\n\u001b[1;32m     10\u001b[0m \u001b[0mprint\u001b[0m\u001b[0;34m(\u001b[0m\u001b[0;34m\"Compra de \"\u001b[0m\u001b[0;34m,\u001b[0m \u001b[0mqtde_compra\u001b[0m\u001b[0;34m,\u001b[0m \u001b[0;34m\" ações da CSAN por R$ \"\u001b[0m \u001b[0;34m,\u001b[0m \u001b[0mvalor_total\u001b[0m\u001b[0;34m,\u001b[0m \u001b[0;34m\" em \"\u001b[0m \u001b[0;34m,\u001b[0m \u001b[0mdate_1\u001b[0m\u001b[0;34m)\u001b[0m\u001b[0;34m\u001b[0m\u001b[0;34m\u001b[0m\u001b[0m\n",
            "\u001b[0;31mNameError\u001b[0m: name 'math' is not defined"
          ]
        }
      ]
    }
  ],
  "metadata": {
    "kernelspec": {
      "display_name": "Python 3 (ipykernel)",
      "language": "python",
      "name": "python3"
    },
    "language_info": {
      "codemirror_mode": {
        "name": "ipython",
        "version": 3
      },
      "file_extension": ".py",
      "mimetype": "text/x-python",
      "name": "python",
      "nbconvert_exporter": "python",
      "pygments_lexer": "ipython3",
      "version": "3.9.12"
    },
    "colab": {
      "provenance": [],
      "collapsed_sections": [],
      "include_colab_link": true
    }
  },
  "nbformat": 4,
  "nbformat_minor": 0
}